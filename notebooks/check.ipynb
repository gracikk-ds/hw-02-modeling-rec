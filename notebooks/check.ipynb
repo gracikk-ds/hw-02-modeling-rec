{
 "cells": [
  {
   "cell_type": "code",
   "execution_count": 4,
   "metadata": {},
   "outputs": [],
   "source": [
    "import albumentations as albu\n",
    "import numpy as np\n",
    "import pandas as pd\n",
    "import torch\n",
    "from omegaconf import DictConfig\n",
    "from torchvision.transforms import ToPILImage\n",
    "\n",
    "from src.dataset.dataset import BarcodeDataset\n",
    "from src.lightning_module import BarcodeRunner\n",
    "from src.dataset.augmentations import get_transforms\n",
    "from src.settings.config import Config\n",
    "from src.utils.predict_utils import matrix_to_string"
   ]
  },
  {
   "cell_type": "code",
   "execution_count": 5,
   "metadata": {},
   "outputs": [],
   "source": [
    "DEVICE = \"cuda:0\"\n",
    "VOCAB = \"0123456789\""
   ]
  },
  {
   "cell_type": "code",
   "execution_count": 11,
   "metadata": {},
   "outputs": [],
   "source": [
    "config: DictConfig = Config.from_yaml(\"../configs/config.yaml\")\n",
    "config.transforms_settings.augmentations = False\n",
    "transforms = get_transforms(config.transforms_settings)"
   ]
  },
  {
   "cell_type": "code",
   "execution_count": 21,
   "metadata": {},
   "outputs": [
    {
     "data": {
      "text/plain": [
       "54"
      ]
     },
     "execution_count": 21,
     "metadata": {},
     "output_type": "execute_result"
    }
   ],
   "source": [
    "df = pd.read_csv(\"../data/val_data.csv\")\n",
    "dataset = BarcodeDataset(\n",
    "    dataframe=df,\n",
    "    image_folder=\"../data/\",\n",
    "    transforms=transforms,\n",
    ")\n",
    "len(dataset)"
   ]
  },
  {
   "cell_type": "code",
   "execution_count": 15,
   "metadata": {},
   "outputs": [],
   "source": [
    "module = BarcodeRunner.load_from_checkpoint(\n",
    "    \"/home/asgordeev/recnet/experiments/first_run/epoch_epoch=99-val_CTCLoss=2.330.ckpt\"\n",
    ")\n",
    "_ = module.to(DEVICE)\n",
    "_ = module.eval()"
   ]
  },
  {
   "cell_type": "code",
   "execution_count": null,
   "metadata": {},
   "outputs": [],
   "source": [
    "def get_pil_img(images):\n",
    "    # Convert tensor to numpy array\n",
    "    def tensor_to_np(tensor):\n",
    "        return tensor.permute(1, 2, 0).cpu().numpy()\n",
    "\n",
    "    # Convert numpy array to tensor\n",
    "    def np_to_tensor(np_array):\n",
    "        return torch.from_numpy(np_array).permute(2, 0, 1)\n",
    "\n",
    "    to_pil = ToPILImage()\n",
    "    denormalize = albu.Normalize(\n",
    "        mean=(-np.array([0.485, 0.456, 0.406]) / np.array([0.229, 0.224, 0.225])),\n",
    "        std=(1 / np.array([0.229, 0.224, 0.225])),\n",
    "        max_pixel_value=1.0,\n",
    "    )\n",
    "    denormalized_tensor = denormalize(image=tensor_to_np(images[0]))[\"image\"]\n",
    "    return to_pil(np_to_tensor(denormalized_tensor))"
   ]
  },
  {
   "cell_type": "code",
   "execution_count": 38,
   "metadata": {},
   "outputs": [],
   "source": [
    "pr_texts = []\n",
    "images = []\n",
    "\n",
    "for i in range(len(dataset)):\n",
    "    image, _, _ = dataset[i]\n",
    "    predict = module(image[None].to(DEVICE)).cpu().detach()\n",
    "    string_pred, _ = matrix_to_string(predict, VOCAB)\n",
    "    pr_texts.append(string_pred[0])\n",
    "    images.append(get_pil_img(image))"
   ]
  },
  {
   "cell_type": "code",
   "execution_count": null,
   "metadata": {},
   "outputs": [],
   "source": [
    "for img, pred in zip(images, pr_texts):\n",
    "    img.show()\n",
    "    print(pred, \"\\n\")"
   ]
  }
 ],
 "metadata": {
  "kernelspec": {
   "display_name": "venv",
   "language": "python",
   "name": "python3"
  },
  "language_info": {
   "codemirror_mode": {
    "name": "ipython",
    "version": 3
   },
   "file_extension": ".py",
   "mimetype": "text/x-python",
   "name": "python",
   "nbconvert_exporter": "python",
   "pygments_lexer": "ipython3",
   "version": "3.8.10"
  }
 },
 "nbformat": 4,
 "nbformat_minor": 2
}
